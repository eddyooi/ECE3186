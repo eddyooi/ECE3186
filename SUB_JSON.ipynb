{
  "cells": [
    {
      "cell_type": "markdown",
      "metadata": {
        "id": "view-in-github",
        "colab_type": "text"
      },
      "source": [
        "<a href=\"https://colab.research.google.com/github/eddyooi/ECE3186/blob/main/SUB_JSON.ipynb\" target=\"_parent\"><img src=\"https://colab.research.google.com/assets/colab-badge.svg\" alt=\"Open In Colab\"/></a>"
      ]
    },
    {
      "cell_type": "code",
      "execution_count": null,
      "metadata": {
        "colab": {
          "base_uri": "https://localhost:8080/"
        },
        "id": "La0e2wFRLiea",
        "outputId": "eb432181-852d-416f-c956-24e4a3c4e996"
      },
      "outputs": [
        {
          "output_type": "stream",
          "name": "stdout",
          "text": [
            "Collecting paho-mqtt\n",
            "  Downloading paho-mqtt-1.6.1.tar.gz (99 kB)\n",
            "\u001b[?25l\r\u001b[K     |███▎                            | 10 kB 12.1 MB/s eta 0:00:01\r\u001b[K     |██████▋                         | 20 kB 8.2 MB/s eta 0:00:01\r\u001b[K     |██████████                      | 30 kB 7.3 MB/s eta 0:00:01\r\u001b[K     |█████████████▏                  | 40 kB 5.6 MB/s eta 0:00:01\r\u001b[K     |████████████████▌               | 51 kB 4.6 MB/s eta 0:00:01\r\u001b[K     |███████████████████▉            | 61 kB 5.4 MB/s eta 0:00:01\r\u001b[K     |███████████████████████         | 71 kB 5.9 MB/s eta 0:00:01\r\u001b[K     |██████████████████████████▍     | 81 kB 5.7 MB/s eta 0:00:01\r\u001b[K     |█████████████████████████████▊  | 92 kB 6.3 MB/s eta 0:00:01\r\u001b[K     |████████████████████████████████| 99 kB 3.0 MB/s \n",
            "\u001b[?25hBuilding wheels for collected packages: paho-mqtt\n",
            "  Building wheel for paho-mqtt (setup.py) ... \u001b[?25l\u001b[?25hdone\n",
            "  Created wheel for paho-mqtt: filename=paho_mqtt-1.6.1-py3-none-any.whl size=62133 sha256=d3cb3f4146cf992615d245105d88134b76836d86268dec264a43244265512b97\n",
            "  Stored in directory: /root/.cache/pip/wheels/d0/bf/ac/2b3f43f8c6fcd0f4ba5395397458c521eb0b52d33b574a5a40\n",
            "Successfully built paho-mqtt\n",
            "Installing collected packages: paho-mqtt\n",
            "Successfully installed paho-mqtt-1.6.1\n"
          ]
        }
      ],
      "source": [
        "pip install paho-mqtt"
      ]
    },
    {
      "cell_type": "code",
      "execution_count": null,
      "metadata": {
        "colab": {
          "background_save": true
        },
        "id": "lONvT9vUMI-1"
      },
      "outputs": [],
      "source": [
        "import paho.mqtt.client as paho\n",
        "from json import loads\n",
        "\n",
        "broker = \"test.mosquitto.org\"\n",
        "port = 1883\n",
        "\n",
        "def on_message(client, userdata, msg):  # callback function for message\n",
        "    data = loads(msg.payload)  # decode json to Python dictionary\n",
        "    print(f\"Temp: {data['temp']}, Humi: {data['humi']}\")\n",
        "    \n",
        "client1 = paho.Client(\"sub1\")  # create client object\n",
        "client1.on_message = on_message  # assign callback function for message\n",
        "client1.connect(broker, port)  # establish connection\n",
        "client1.subscribe(\"mypi/sensor\", 0)  # subscribe to topic “mypi/sensor” with QoS 0\n",
        "client1.loop_forever()  # wait for incoming messages"
      ]
    }
  ],
  "metadata": {
    "colab": {
      "name": "SUB_JSON.ipynb",
      "provenance": [],
      "authorship_tag": "ABX9TyMF8RDpDuUs2/AwNlAk2Sf/",
      "include_colab_link": true
    },
    "kernelspec": {
      "display_name": "Python 3",
      "name": "python3"
    },
    "language_info": {
      "name": "python"
    }
  },
  "nbformat": 4,
  "nbformat_minor": 0
}