{
  "nbformat": 4,
  "nbformat_minor": 0,
  "metadata": {
    "colab": {
      "name": "dweet_json.ipynb",
      "provenance": [],
      "authorship_tag": "ABX9TyMdP+X8djKDfqrRsFDs2Y++",
      "include_colab_link": true
    },
    "kernelspec": {
      "name": "python3",
      "display_name": "Python 3"
    },
    "language_info": {
      "name": "python"
    }
  },
  "cells": [
    {
      "cell_type": "markdown",
      "metadata": {
        "id": "view-in-github",
        "colab_type": "text"
      },
      "source": [
        "<a href=\"https://colab.research.google.com/github/eddyooi/ECE3186/blob/main/dweet_json.ipynb\" target=\"_parent\"><img src=\"https://colab.research.google.com/assets/colab-badge.svg\" alt=\"Open In Colab\"/></a>"
      ]
    },
    {
      "cell_type": "code",
      "execution_count": 1,
      "metadata": {
        "id": "_hNTygy2Pa8N",
        "colab": {
          "base_uri": "https://localhost:8080/"
        },
        "outputId": "4c801403-8694-48d0-d724-20b86cc668de"
      },
      "outputs": [
        {
          "output_type": "stream",
          "name": "stdout",
          "text": [
            "<http.client.HTTPResponse object at 0x7fa9fe84b390> http://dweet.io/dweet/for/mydevice_r2d2?temp=36.7&humi=88.9\n"
          ]
        }
      ],
      "source": [
        "import urllib.parse\n",
        "import urllib.request\n",
        "name_value = {}\n",
        "name_value['temp'] = 36.7\n",
        "name_value['humi'] = 88.9\n",
        "values = urllib.parse.urlencode(name_value)\n",
        "url = 'http://dweet.io/dweet/for/mydevice_r2d2'\n",
        "url_values = url + '?' + values\n",
        "res = urllib.request.urlopen(url_values)\n",
        "print(res,url_values)\n",
        "\n"
      ]
    },
    {
      "cell_type": "code",
      "source": [
        "import urllib.request\n",
        "import json\n",
        "\n",
        "url = 'http://dweet.io/get/latest/dweet/for/mydevice_r2d2'\n",
        "with urllib.request.urlopen(url) as response:\n",
        "   res = response.read()\n",
        "data = json.loads(res)\n",
        "temp = data['with'][0]['content']['temp']\n",
        "humi = data['with'][0]['content']['humi']\n",
        "print(temp, humi, sep=',')\n"
      ],
      "metadata": {
        "colab": {
          "base_uri": "https://localhost:8080/"
        },
        "id": "nXU1tiR_Qgq7",
        "outputId": "613d23f5-8a43-4a8e-c3bc-a6d321d50791"
      },
      "execution_count": 2,
      "outputs": [
        {
          "output_type": "stream",
          "name": "stdout",
          "text": [
            "36.7,88.9\n"
          ]
        }
      ]
    }
  ]
}