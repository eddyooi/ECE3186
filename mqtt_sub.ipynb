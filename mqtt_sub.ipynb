{
  "nbformat": 4,
  "nbformat_minor": 0,
  "metadata": {
    "kernelspec": {
      "display_name": "Python 3",
      "language": "python",
      "name": "python3"
    },
    "language_info": {
      "codemirror_mode": {
        "name": "ipython",
        "version": 3
      },
      "file_extension": ".py",
      "mimetype": "text/x-python",
      "name": "python",
      "nbconvert_exporter": "python",
      "pygments_lexer": "ipython3",
      "version": "3.8.5"
    },
    "colab": {
      "name": "mqtt_sub.ipynb",
      "provenance": [],
      "include_colab_link": true
    }
  },
  "cells": [
    {
      "cell_type": "markdown",
      "metadata": {
        "id": "view-in-github",
        "colab_type": "text"
      },
      "source": [
        "<a href=\"https://colab.research.google.com/github/eddyooi/ECE3186/blob/main/mqtt_sub.ipynb\" target=\"_parent\"><img src=\"https://colab.research.google.com/assets/colab-badge.svg\" alt=\"Open In Colab\"/></a>"
      ]
    },
    {
      "cell_type": "code",
      "metadata": {
        "id": "7Hew_Jf3W-eh",
        "colab": {
          "base_uri": "https://localhost:8080/"
        },
        "outputId": "74b06975-aae8-4ce5-c2d6-dd7e5cad5d01"
      },
      "source": [
        "pip install paho-mqtt"
      ],
      "execution_count": 2,
      "outputs": [
        {
          "output_type": "stream",
          "name": "stdout",
          "text": [
            "Collecting paho-mqtt\n",
            "  Downloading paho-mqtt-1.6.1.tar.gz (99 kB)\n",
            "\u001b[?25l\r\u001b[K     |███▎                            | 10 kB 28.0 MB/s eta 0:00:01\r\u001b[K     |██████▋                         | 20 kB 13.9 MB/s eta 0:00:01\r\u001b[K     |██████████                      | 30 kB 10.2 MB/s eta 0:00:01\r\u001b[K     |█████████████▏                  | 40 kB 9.0 MB/s eta 0:00:01\r\u001b[K     |████████████████▌               | 51 kB 4.8 MB/s eta 0:00:01\r\u001b[K     |███████████████████▉            | 61 kB 5.6 MB/s eta 0:00:01\r\u001b[K     |███████████████████████         | 71 kB 5.5 MB/s eta 0:00:01\r\u001b[K     |██████████████████████████▍     | 81 kB 4.3 MB/s eta 0:00:01\r\u001b[K     |█████████████████████████████▊  | 92 kB 4.8 MB/s eta 0:00:01\r\u001b[K     |████████████████████████████████| 99 kB 3.6 MB/s \n",
            "\u001b[?25hBuilding wheels for collected packages: paho-mqtt\n",
            "  Building wheel for paho-mqtt (setup.py) ... \u001b[?25l\u001b[?25hdone\n",
            "  Created wheel for paho-mqtt: filename=paho_mqtt-1.6.1-py3-none-any.whl size=62133 sha256=1ccb93f79488e9e24fd3fffcb3dc1000262c6abd6326c7924526cf1bb729a01e\n",
            "  Stored in directory: /root/.cache/pip/wheels/d0/bf/ac/2b3f43f8c6fcd0f4ba5395397458c521eb0b52d33b574a5a40\n",
            "Successfully built paho-mqtt\n",
            "Installing collected packages: paho-mqtt\n",
            "Successfully installed paho-mqtt-1.6.1\n"
          ]
        }
      ]
    },
    {
      "cell_type": "code",
      "metadata": {
        "id": "YU2-lUvcW9W7",
        "colab": {
          "base_uri": "https://localhost:8080/",
          "height": 1000
        },
        "outputId": "88b8d8ff-0b59-4085-8f1b-9253849682a4"
      },
      "source": [
        "# Sample code for MQTT subscriber\n",
        "import paho.mqtt.client as paho\n",
        "\n",
        "broker = \"test.mosquitto.org\"\n",
        "port = 1883\n",
        "topic = \"ESD2/temperature\"\n",
        "\n",
        "def on_connect(self, client, userdata, rc):  # callback function for connect\n",
        "    print(\"Connected with result code \"+str(rc))\n",
        "\n",
        "def on_subscribe(client, userdata, mid, granted_qos):  # callback function for subscribe\n",
        "    print(\"Subscribed with QOS: \", granted_qos)\n",
        "    \n",
        "def on_message(client, userdata, msg):  # callback function for message\n",
        "    print(\"Topic: \" + msg.topic + \"\\nMessage: \" + str(msg.payload))\n",
        "    \n",
        "client1 = paho.Client(\"sub01\")  # create client object\n",
        "client1.on_connect = on_connect  # assign callback function for connect\n",
        "client1.on_subscribe = on_subscribe  # assign callback function for subscribe\n",
        "client1.on_message = on_message  # assign callback function for message\n",
        "client1.connect(broker, port)  # establish connection\n",
        "client1.subscribe(topic, 0)  # subscribe to topic “mypi/led1” with QoS 0\n",
        "client1.loop_forever()  # wait for incoming messages"
      ],
      "execution_count": 3,
      "outputs": [
        {
          "output_type": "stream",
          "name": "stdout",
          "text": [
            "Connected with result code 0\n",
            "Subscribed with QOS:  (0,)\n",
            "Topic: ESD2/temperature\n",
            "Message: b'20'\n",
            "Topic: ESD2/temperature\n",
            "Message: b'24'\n",
            "Topic: ESD2/temperature\n",
            "Message: b'21'\n",
            "Topic: ESD2/temperature\n",
            "Message: b'26'\n",
            "Topic: ESD2/temperature\n",
            "Message: b'21'\n",
            "Topic: ESD2/temperature\n",
            "Message: b'22'\n",
            "Topic: ESD2/temperature\n",
            "Message: b'24'\n",
            "Topic: ESD2/temperature\n",
            "Message: b'25'\n",
            "Topic: ESD2/temperature\n",
            "Message: b'30'\n",
            "Topic: ESD2/temperature\n",
            "Message: b'27'\n",
            "Topic: ESD2/temperature\n",
            "Message: b'29'\n",
            "Topic: ESD2/temperature\n",
            "Message: b'21'\n",
            "Topic: ESD2/temperature\n",
            "Message: b'22'\n",
            "Topic: ESD2/temperature\n",
            "Message: b'26'\n",
            "Topic: ESD2/temperature\n",
            "Message: b'29'\n",
            "Topic: ESD2/temperature\n",
            "Message: b'20'\n",
            "Topic: ESD2/temperature\n",
            "Message: b'24'\n",
            "Topic: ESD2/temperature\n",
            "Message: b'24'\n"
          ]
        },
        {
          "output_type": "error",
          "ename": "KeyboardInterrupt",
          "evalue": "ignored",
          "traceback": [
            "\u001b[0;31m---------------------------------------------------------------------------\u001b[0m",
            "\u001b[0;31mKeyboardInterrupt\u001b[0m                         Traceback (most recent call last)",
            "\u001b[0;32m<ipython-input-3-ca2c5a552237>\u001b[0m in \u001b[0;36m<module>\u001b[0;34m()\u001b[0m\n\u001b[1;32m     21\u001b[0m \u001b[0mclient1\u001b[0m\u001b[0;34m.\u001b[0m\u001b[0mconnect\u001b[0m\u001b[0;34m(\u001b[0m\u001b[0mbroker\u001b[0m\u001b[0;34m,\u001b[0m \u001b[0mport\u001b[0m\u001b[0;34m)\u001b[0m  \u001b[0;31m# establish connection\u001b[0m\u001b[0;34m\u001b[0m\u001b[0;34m\u001b[0m\u001b[0m\n\u001b[1;32m     22\u001b[0m \u001b[0mclient1\u001b[0m\u001b[0;34m.\u001b[0m\u001b[0msubscribe\u001b[0m\u001b[0;34m(\u001b[0m\u001b[0mtopic\u001b[0m\u001b[0;34m,\u001b[0m \u001b[0;36m0\u001b[0m\u001b[0;34m)\u001b[0m  \u001b[0;31m# subscribe to topic “mypi/led1” with QoS 0\u001b[0m\u001b[0;34m\u001b[0m\u001b[0;34m\u001b[0m\u001b[0m\n\u001b[0;32m---> 23\u001b[0;31m \u001b[0mclient1\u001b[0m\u001b[0;34m.\u001b[0m\u001b[0mloop_forever\u001b[0m\u001b[0;34m(\u001b[0m\u001b[0;34m)\u001b[0m  \u001b[0;31m# wait for incoming messages\u001b[0m\u001b[0;34m\u001b[0m\u001b[0;34m\u001b[0m\u001b[0m\n\u001b[0m",
            "\u001b[0;32m/usr/local/lib/python3.7/dist-packages/paho/mqtt/client.py\u001b[0m in \u001b[0;36mloop_forever\u001b[0;34m(self, timeout, max_packets, retry_first_connection)\u001b[0m\n\u001b[1;32m   1754\u001b[0m             \u001b[0mrc\u001b[0m \u001b[0;34m=\u001b[0m \u001b[0mMQTT_ERR_SUCCESS\u001b[0m\u001b[0;34m\u001b[0m\u001b[0;34m\u001b[0m\u001b[0m\n\u001b[1;32m   1755\u001b[0m             \u001b[0;32mwhile\u001b[0m \u001b[0mrc\u001b[0m \u001b[0;34m==\u001b[0m \u001b[0mMQTT_ERR_SUCCESS\u001b[0m\u001b[0;34m:\u001b[0m\u001b[0;34m\u001b[0m\u001b[0;34m\u001b[0m\u001b[0m\n\u001b[0;32m-> 1756\u001b[0;31m                 \u001b[0mrc\u001b[0m \u001b[0;34m=\u001b[0m \u001b[0mself\u001b[0m\u001b[0;34m.\u001b[0m\u001b[0m_loop\u001b[0m\u001b[0;34m(\u001b[0m\u001b[0mtimeout\u001b[0m\u001b[0;34m)\u001b[0m\u001b[0;34m\u001b[0m\u001b[0;34m\u001b[0m\u001b[0m\n\u001b[0m\u001b[1;32m   1757\u001b[0m                 \u001b[0;31m# We don't need to worry about locking here, because we've\u001b[0m\u001b[0;34m\u001b[0m\u001b[0;34m\u001b[0m\u001b[0;34m\u001b[0m\u001b[0m\n\u001b[1;32m   1758\u001b[0m                 \u001b[0;31m# either called loop_forever() when in single threaded mode, or\u001b[0m\u001b[0;34m\u001b[0m\u001b[0;34m\u001b[0m\u001b[0;34m\u001b[0m\u001b[0m\n",
            "\u001b[0;32m/usr/local/lib/python3.7/dist-packages/paho/mqtt/client.py\u001b[0m in \u001b[0;36m_loop\u001b[0;34m(self, timeout)\u001b[0m\n\u001b[1;32m   1148\u001b[0m \u001b[0;34m\u001b[0m\u001b[0m\n\u001b[1;32m   1149\u001b[0m         \u001b[0;32mtry\u001b[0m\u001b[0;34m:\u001b[0m\u001b[0;34m\u001b[0m\u001b[0;34m\u001b[0m\u001b[0m\n\u001b[0;32m-> 1150\u001b[0;31m             \u001b[0msocklist\u001b[0m \u001b[0;34m=\u001b[0m \u001b[0mselect\u001b[0m\u001b[0;34m.\u001b[0m\u001b[0mselect\u001b[0m\u001b[0;34m(\u001b[0m\u001b[0mrlist\u001b[0m\u001b[0;34m,\u001b[0m \u001b[0mwlist\u001b[0m\u001b[0;34m,\u001b[0m \u001b[0;34m[\u001b[0m\u001b[0;34m]\u001b[0m\u001b[0;34m,\u001b[0m \u001b[0mtimeout\u001b[0m\u001b[0;34m)\u001b[0m\u001b[0;34m\u001b[0m\u001b[0;34m\u001b[0m\u001b[0m\n\u001b[0m\u001b[1;32m   1151\u001b[0m         \u001b[0;32mexcept\u001b[0m \u001b[0mTypeError\u001b[0m\u001b[0;34m:\u001b[0m\u001b[0;34m\u001b[0m\u001b[0;34m\u001b[0m\u001b[0m\n\u001b[1;32m   1152\u001b[0m             \u001b[0;31m# Socket isn't correct type, in likelihood connection is lost\u001b[0m\u001b[0;34m\u001b[0m\u001b[0;34m\u001b[0m\u001b[0;34m\u001b[0m\u001b[0m\n",
            "\u001b[0;31mKeyboardInterrupt\u001b[0m: "
          ]
        }
      ]
    }
  ]
}