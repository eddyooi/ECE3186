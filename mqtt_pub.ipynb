{
  "cells": [
    {
      "cell_type": "markdown",
      "metadata": {
        "id": "view-in-github",
        "colab_type": "text"
      },
      "source": [
        "<a href=\"https://colab.research.google.com/github/eddyooi/ECE3186/blob/main/mqtt_pub.ipynb\" target=\"_parent\"><img src=\"https://colab.research.google.com/assets/colab-badge.svg\" alt=\"Open In Colab\"/></a>"
      ]
    },
    {
      "cell_type": "code",
      "execution_count": 1,
      "metadata": {
        "id": "7Hew_Jf3W-eh",
        "colab": {
          "base_uri": "https://localhost:8080/"
        },
        "outputId": "b71cf923-3dcb-4563-fb08-8fb79e8afed5"
      },
      "outputs": [
        {
          "output_type": "stream",
          "name": "stdout",
          "text": [
            "Collecting paho-mqtt\n",
            "  Downloading paho-mqtt-1.6.1.tar.gz (99 kB)\n",
            "\u001b[?25l\r\u001b[K     |███▎                            | 10 kB 24.0 MB/s eta 0:00:01\r\u001b[K     |██████▋                         | 20 kB 16.2 MB/s eta 0:00:01\r\u001b[K     |██████████                      | 30 kB 10.8 MB/s eta 0:00:01\r\u001b[K     |█████████████▏                  | 40 kB 9.1 MB/s eta 0:00:01\r\u001b[K     |████████████████▌               | 51 kB 4.3 MB/s eta 0:00:01\r\u001b[K     |███████████████████▉            | 61 kB 5.1 MB/s eta 0:00:01\r\u001b[K     |███████████████████████         | 71 kB 5.5 MB/s eta 0:00:01\r\u001b[K     |██████████████████████████▍     | 81 kB 5.7 MB/s eta 0:00:01\r\u001b[K     |█████████████████████████████▊  | 92 kB 6.4 MB/s eta 0:00:01\r\u001b[K     |████████████████████████████████| 99 kB 3.3 MB/s \n",
            "\u001b[?25hBuilding wheels for collected packages: paho-mqtt\n",
            "  Building wheel for paho-mqtt (setup.py) ... \u001b[?25l\u001b[?25hdone\n",
            "  Created wheel for paho-mqtt: filename=paho_mqtt-1.6.1-py3-none-any.whl size=62133 sha256=b13ebf6cbbb87ed9e8f9480e3946d530cb55140a2122175214667a01f3945804\n",
            "  Stored in directory: /root/.cache/pip/wheels/d0/bf/ac/2b3f43f8c6fcd0f4ba5395397458c521eb0b52d33b574a5a40\n",
            "Successfully built paho-mqtt\n",
            "Installing collected packages: paho-mqtt\n",
            "Successfully installed paho-mqtt-1.6.1\n"
          ]
        }
      ],
      "source": [
        "pip install paho-mqtt"
      ]
    },
    {
      "cell_type": "code",
      "execution_count": 2,
      "metadata": {
        "colab": {
          "base_uri": "https://localhost:8080/",
          "height": 720
        },
        "id": "yQm_wKo9W9W5",
        "outputId": "4641150c-d5c2-45d9-b745-059e0e51267d"
      },
      "outputs": [
        {
          "output_type": "stream",
          "name": "stdout",
          "text": [
            "Data published: 22\n",
            "Data published: 29\n",
            "Data published: 26\n",
            "Data published: 29\n",
            "Data published: 28\n",
            "Data published: 30\n",
            "Data published: 21\n",
            "Data published: 24\n",
            "Data published: 23\n",
            "Data published: 23\n",
            "Data published: 25\n",
            "Data published: 24\n",
            "Data published: 20\n",
            "Data published: 24\n",
            "Data published: 21\n",
            "Data published: 26\n",
            "Data published: 21\n",
            "Data published: 22\n",
            "Data published: 24\n",
            "Data published: 25\n",
            "Data published: 30\n",
            "Data published: 27\n",
            "Data published: 29\n",
            "Data published: 21\n",
            "Data published: 22\n",
            "Data published: 26\n",
            "Data published: 29\n",
            "Data published: 20\n",
            "Data published: 24\n",
            "Data published: 24\n"
          ]
        },
        {
          "output_type": "error",
          "ename": "KeyboardInterrupt",
          "evalue": "ignored",
          "traceback": [
            "\u001b[0;31m---------------------------------------------------------------------------\u001b[0m",
            "\u001b[0;31mKeyboardInterrupt\u001b[0m                         Traceback (most recent call last)",
            "\u001b[0;32m<ipython-input-2-ca86a57dfb8a>\u001b[0m in \u001b[0;36m<module>\u001b[0;34m()\u001b[0m\n\u001b[1;32m     21\u001b[0m     \u001b[0mtemp\u001b[0m \u001b[0;34m=\u001b[0m \u001b[0mrandint\u001b[0m\u001b[0;34m(\u001b[0m\u001b[0;36m20\u001b[0m\u001b[0;34m,\u001b[0m \u001b[0;36m30\u001b[0m\u001b[0;34m)\u001b[0m\u001b[0;34m\u001b[0m\u001b[0;34m\u001b[0m\u001b[0m\n\u001b[1;32m     22\u001b[0m     \u001b[0mret\u001b[0m \u001b[0;34m=\u001b[0m \u001b[0mclient1\u001b[0m\u001b[0;34m.\u001b[0m\u001b[0mpublish\u001b[0m\u001b[0;34m(\u001b[0m\u001b[0mtopic\u001b[0m\u001b[0;34m,\u001b[0m \u001b[0mtemp\u001b[0m\u001b[0;34m)\u001b[0m  \u001b[0;31m# publish\u001b[0m\u001b[0;34m\u001b[0m\u001b[0;34m\u001b[0m\u001b[0m\n\u001b[0;32m---> 23\u001b[0;31m     \u001b[0msleep\u001b[0m\u001b[0;34m(\u001b[0m\u001b[0;36m5\u001b[0m\u001b[0;34m)\u001b[0m  \u001b[0;31m# wait 5 seconds\u001b[0m\u001b[0;34m\u001b[0m\u001b[0;34m\u001b[0m\u001b[0m\n\u001b[0m",
            "\u001b[0;31mKeyboardInterrupt\u001b[0m: "
          ]
        }
      ],
      "source": [
        "import paho.mqtt.client as paho\n",
        "from time import sleep\n",
        "from random import randint\n",
        "\n",
        "\n",
        "def on_publish(client, userdata, result):  # callback function for publish\n",
        "    global temp\n",
        "    print(f\"Data published: {temp}\")\n",
        "\n",
        "\n",
        "broker = \"test.mosquitto.org\"\n",
        "#broker = \"mqtt.example.com\"\n",
        "port = 1883\n",
        "topic = \"ESD2/temperature\"\n",
        "\n",
        "client1 = paho.Client(\"pub080320\")  # create client object\n",
        "client1.on_publish = on_publish  # assign callback function\n",
        "client1.connect(broker, port)  # establish connection\n",
        "\n",
        "while True:\n",
        "    temp = randint(20, 30)\n",
        "    ret = client1.publish(topic, temp)  # publish\n",
        "    sleep(5)  # wait 5 seconds\n"
      ]
    },
    {
      "cell_type": "code",
      "execution_count": null,
      "metadata": {
        "id": "f-rhdlRSyf2Q"
      },
      "outputs": [],
      "source": [
        ""
      ]
    }
  ],
  "metadata": {
    "colab": {
      "name": "mqtt_pub.ipynb",
      "provenance": [],
      "include_colab_link": true
    },
    "kernelspec": {
      "display_name": "Python 3",
      "language": "python",
      "name": "python3"
    },
    "language_info": {
      "codemirror_mode": {
        "name": "ipython",
        "version": 3
      },
      "file_extension": ".py",
      "mimetype": "text/x-python",
      "name": "python",
      "nbconvert_exporter": "python",
      "pygments_lexer": "ipython3",
      "version": "3.8.5"
    }
  },
  "nbformat": 4,
  "nbformat_minor": 0
}