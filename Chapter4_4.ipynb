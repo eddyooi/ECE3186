{
  "nbformat": 4,
  "nbformat_minor": 0,
  "metadata": {
    "kernelspec": {
      "display_name": "Python 3",
      "language": "python",
      "name": "python3"
    },
    "language_info": {
      "codemirror_mode": {
        "name": "ipython",
        "version": 3
      },
      "file_extension": ".py",
      "mimetype": "text/x-python",
      "name": "python",
      "nbconvert_exporter": "python",
      "pygments_lexer": "ipython3",
      "version": "3.8.5"
    },
    "colab": {
      "name": "Chapter4_4.ipynb",
      "provenance": [],
      "include_colab_link": true
    }
  },
  "cells": [
    {
      "cell_type": "markdown",
      "metadata": {
        "id": "view-in-github",
        "colab_type": "text"
      },
      "source": [
        "<a href=\"https://colab.research.google.com/github/eddyooi/ECE3186/blob/main/Chapter4_4.ipynb\" target=\"_parent\"><img src=\"https://colab.research.google.com/assets/colab-badge.svg\" alt=\"Open In Colab\"/></a>"
      ]
    },
    {
      "cell_type": "code",
      "metadata": {
        "id": "r_njEpTi7L_w",
        "outputId": "9fdd1d3a-10e7-44d0-b7b0-dde8a357e067",
        "colab": {
          "base_uri": "https://localhost:8080/"
        }
      },
      "source": [
        "# Load the relevant modules and packages\n",
        "from pandas import read_csv\n",
        "from sklearn.model_selection import train_test_split as split\n",
        "from sklearn.neighbors import KNeighborsClassifier\n",
        "from sklearn.tree import DecisionTreeClassifier\n",
        "\n",
        "# Load dataset and split to training and testing sets\n",
        "df = read_csv('https://raw.githubusercontent.com/wooihaw/datasets/main/heights_weights_genders.csv')\n",
        "print(df.head(5))  # print out first 5 lines of datasets\n",
        "X = df.values[:, :-1]\n",
        "y = df.values[:, -1]\n",
        "X_train, X_test, y_train, y_test = split(X, y, test_size=0.25)  # Split to training (75%) & testing (25%) sets\n",
        "\n",
        "# k-Nearest Neighbours Classifier\n",
        "knn = KNeighborsClassifier().fit(X_train, y_train)  # using default settings for training\n",
        "print(f'knn Accuracy: {knn.score(X_test, y_test)}')  # Evaluate the accuracy\n",
        "data1, data2 = [175, 80], [160, 47]\n",
        "print(f'knn Predictions: {knn.predict([data1, data2])}')  # Make predictions\n",
        "\n",
        "# Decision Tree Classifier\n",
        "dtc = DecisionTreeClassifier().fit(X_train, y_train)  # using default settings for training\n",
        "print(f'dtc Accuracy: {dtc.score(X_test, y_test)}')  # Evaluate the accuracy\n",
        "print(f'dtc Predictions: {dtc.predict([data1, data2])}')  # Make predictions"
      ],
      "execution_count": 1,
      "outputs": [
        {
          "output_type": "stream",
          "name": "stdout",
          "text": [
            "   Height(cm)  Weight(kg) Gender\n",
            "0       187.6       109.7   Male\n",
            "1       174.7        73.6   Male\n",
            "2       188.2        96.5   Male\n",
            "3       182.2        99.8   Male\n",
            "4       177.5        93.6   Male\n",
            "knn Accuracy: 0.912\n",
            "knn Predictions: ['Male' 'Female']\n",
            "dtc Accuracy: 0.8664\n",
            "dtc Predictions: ['Female' 'Female']\n"
          ]
        }
      ]
    },
    {
      "cell_type": "code",
      "metadata": {
        "id": "9YrgpoeH7L_x"
      },
      "source": [
        "from sklearn.linear_model import LinearRegression\n",
        "\n",
        "X = df.values[:, 0].reshape(-1, 1)\n",
        "y = df.values[:, 1]\n",
        "X_train, X_test, y_train, y_test = split(X, y, test_size=0.25) # Split to training (75%) & testing (25%) sets\n",
        "\n",
        "# Linear regression aka ordinbary least square\n",
        "lr = LinearRegression().fit(X_train, y_train)  # using default settings for training\n",
        "print(f'R2 score: {lr.score(X_test, y_test)}')  # Evaluate the R2 score\n",
        "h1, h2 = [175], [155]\n",
        "print(f'Predictions: {lr.predict([h1, h2])}')  # Make predictions"
      ],
      "execution_count": null,
      "outputs": []
    }
  ]
}